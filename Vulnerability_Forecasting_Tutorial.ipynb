{
  "cells": [
    {
      "cell_type": "markdown",
      "metadata": {
        "id": "ejIZs3c23Oax"
      },
      "source": [
        "# Introduction"
      ],
      "id": "ejIZs3c23Oax"
    },
    {
      "cell_type": "markdown",
      "metadata": {
        "id": "q7f10rIA3ZSn"
      },
      "source": [
        "This Jupyter notebook is a light tutorial showing how to use some of the tools developed in our peer reviewed academic paper: [Vulnerability Forecasting: Theory and Practice](https://dl.acm.org/doi/pdf/10.1145/3492328) for those of you who like to read dusty academic papers. Our goal here is to drop the academic jargon, make the work reproducible, and let newcomers to forecasting make better forecasts than we ever could. That's you!\n",
        "\n",
        "Before we begin that jouney of discovery, why should we even forecast? What can we do with such forecasts? Why are they useful?\n",
        "\n",
        "1.   EASM and Vulnerability Management Planning\n",
        "2.   Bridging the gap between risk and secops\n",
        "3.   Board Level Cyber Risk Communication\n",
        "4.   Software Supply Chain Dependency Prediction\n",
        "5.   Cyber Insurance\n",
        "6.   Equities Processes\n",
        "\n",
        "Most people are focused on item one as part of the every day work of cybersecurity. Practicitioners dread out of cycle emergency patch releases, while managers wonder how big their teams should be. You are the core reason we started the Vuln4Cast project, and this tool is to help you plan for an uncertain future. You can now get rough answers to questions like \"How many out of band patches might I reasonably expect in one month\" or \"What's the average CVSS score of a windows vulnerability?\"\n",
        "\n",
        "Setting a realistic vulnerability risk appetite is hard. You might say you want to have zero risk and patch everything, but you need to balance that against how much work that will be. These forecasts are reasonably accurate estimates to how much work that will be. In other words; at your yearly planning meeting you can ask *and answer* such questions as \"if we patch everything above CVSS7 for Apache this year, how many vulnerabilities are we likely to handle?\" or \"If we take the risk of not patching this new product for two years in the field, how many of it's open source dependencies are likely to be network facing remote code execution or memory corruption?\" \n",
        "\n",
        "Item three is important if you need to buy new tools to manage your assets and vulnerabilities, or you want to grow the team that uses them. Showing the growth rate of vulnerabilities that are within your defined risk appetite could mean the difference between getting the budget your team needs and another year of tehnical debt.\n",
        "\n",
        "One of the things we *most* hope you will do is set a defined, quantified, risk appetite for patching.\n",
        "\n",
        "The other items are a bit \"big picture\", so we won't waste your time here. The people doing those tasks will get it anyway, without our explanation. We'll help you demystify the CVE data, and start forecasting today!"
      ],
      "id": "q7f10rIA3ZSn"
    },
    {
      "cell_type": "markdown",
      "metadata": {
        "id": "tSjJuvKTyjbo"
      },
      "source": [
        "# Setup our lab environment"
      ],
      "id": "tSjJuvKTyjbo"
    },
    {
      "cell_type": "markdown",
      "metadata": {
        "id": "QVjRIuM97Wv4"
      },
      "source": [
        "First we'll import all the libraries we need. A couple of them need installed first. JQ is a pythonic implementation of jq; a tool for querying json. Hopefully some of you know it already. Hurst is a library that implements a forecasting metric called the Hurst exponent, which we will use later to demonstrate that CVEs have the right properties to be forecast at all."
      ],
      "id": "QVjRIuM97Wv4"
    },
    {
      "cell_type": "code",
      "execution_count": 1,
      "metadata": {
        "id": "Ac3vLew6N8Ik",
        "colab": {
          "base_uri": "https://localhost:8080/"
        },
        "outputId": "c0b35e9b-cd01-4dc1-b406-dd19d783cf84"
      },
      "outputs": [
        {
          "output_type": "stream",
          "name": "stdout",
          "text": [
            "Looking in indexes: https://pypi.org/simple, https://us-python.pkg.dev/colab-wheels/public/simple/\n",
            "Requirement already satisfied: requests in /usr/local/lib/python3.7/dist-packages (2.23.0)\n",
            "Requirement already satisfied: idna<3,>=2.5 in /usr/local/lib/python3.7/dist-packages (from requests) (2.10)\n",
            "Requirement already satisfied: chardet<4,>=3.0.2 in /usr/local/lib/python3.7/dist-packages (from requests) (3.0.4)\n",
            "Requirement already satisfied: certifi>=2017.4.17 in /usr/local/lib/python3.7/dist-packages (from requests) (2022.6.15)\n",
            "Requirement already satisfied: urllib3!=1.25.0,!=1.25.1,<1.26,>=1.21.1 in /usr/local/lib/python3.7/dist-packages (from requests) (1.24.3)\n",
            "Looking in indexes: https://pypi.org/simple, https://us-python.pkg.dev/colab-wheels/public/simple/\n",
            "Requirement already satisfied: hurst in /usr/local/lib/python3.7/dist-packages (0.0.5)\n",
            "Requirement already satisfied: numpy>=1.10 in /usr/local/lib/python3.7/dist-packages (from hurst) (1.21.6)\n",
            "Requirement already satisfied: pandas>=0.18 in /usr/local/lib/python3.7/dist-packages (from hurst) (1.3.5)\n",
            "Requirement already satisfied: pytz>=2017.3 in /usr/local/lib/python3.7/dist-packages (from pandas>=0.18->hurst) (2022.1)\n",
            "Requirement already satisfied: python-dateutil>=2.7.3 in /usr/local/lib/python3.7/dist-packages (from pandas>=0.18->hurst) (2.8.2)\n",
            "Requirement already satisfied: six>=1.5 in /usr/local/lib/python3.7/dist-packages (from python-dateutil>=2.7.3->pandas>=0.18->hurst) (1.15.0)\n",
            "Looking in indexes: https://pypi.org/simple, https://us-python.pkg.dev/colab-wheels/public/simple/\n",
            "Requirement already satisfied: jq in /usr/local/lib/python3.7/dist-packages (1.2.2)\n"
          ]
        }
      ],
      "source": [
        "!pip install requests\n",
        "!pip install hurst\n",
        "!pip install jq"
      ],
      "id": "Ac3vLew6N8Ik"
    },
    {
      "cell_type": "code",
      "execution_count": 2,
      "metadata": {
        "id": "aPf4YVs47Hr3"
      },
      "outputs": [],
      "source": [
        "import requests\n",
        "import gzip as gz\n",
        "import shutil\n",
        "import pandas as pd\n",
        "import json\n",
        "import datetime\n",
        "import tqdm\n",
        "import os\n",
        "import jq\n",
        "import hurst\n",
        "import json\n",
        "import matplotlib.pyplot as plt\n",
        "import itertools\n",
        "import seaborn as sns\n",
        "import numpy as np"
      ],
      "id": "aPf4YVs47Hr3"
    },
    {
      "cell_type": "code",
      "execution_count": 3,
      "metadata": {
        "id": "gXrbSN-wDqT5"
      },
      "outputs": [],
      "source": [
        "# Increase size of plot in jupyter\n",
        "plt.rcParams[\"figure.figsize\"] = (20,12)"
      ],
      "id": "gXrbSN-wDqT5"
    },
    {
      "cell_type": "markdown",
      "metadata": {
        "id": "HaE6Q136LzU2"
      },
      "source": [
        "The folders where we will store the data as a gzip, and as a json need to be created."
      ],
      "id": "HaE6Q136LzU2"
    },
    {
      "cell_type": "code",
      "execution_count": 4,
      "metadata": {
        "id": "DMJg36yV7NU6"
      },
      "outputs": [],
      "source": [
        "file_exists = os.path.exists('CVE-NVD')\n",
        "if not file_exists:\n",
        "  os.mkdir('CVE-NVD')\n",
        "  os.mkdir('CVE-NVD/GZIP')\n",
        "  os.mkdir('CVE-NVD/JSON')"
      ],
      "id": "DMJg36yV7NU6"
    },
    {
      "cell_type": "markdown",
      "metadata": {
        "id": "lqd6pK-_y3V2"
      },
      "source": [
        "Let's also setup some other folders for MITRE's advance views of CVE data."
      ],
      "id": "lqd6pK-_y3V2"
    },
    {
      "cell_type": "code",
      "execution_count": 5,
      "metadata": {
        "id": "FgvWYE3HVV1J"
      },
      "outputs": [],
      "source": [
        "file_exists = os.path.exists('CVE-MITRE')\n",
        "if not file_exists:\n",
        "  os.mkdir('CVE-MITRE')\n",
        "  os.mkdir('CVE-MITRE/CSV')"
      ],
      "id": "FgvWYE3HVV1J"
    },
    {
      "cell_type": "markdown",
      "metadata": {
        "id": "Peg0lTsMy_g0"
      },
      "source": [
        "# Download the CVE data from NVD and MITRE"
      ],
      "id": "Peg0lTsMy_g0"
    },
    {
      "cell_type": "markdown",
      "metadata": {
        "id": "d_nZqbNCS4vE"
      },
      "source": [
        "Now we'll download the NVD data for every year since 1999. Don't worry it's faster than you think.  \n",
        "PROTIP: The progress bar comes for free from the tqdm package. Just wrap a for loop in tqdm.tqdm() it and you get a progress bar for free.\n",
        "Now after this tutorial if you keep this notebook, you'll always be able to fetch all this CVE data easily. Handy for many more things than just forecasting."
      ],
      "id": "d_nZqbNCS4vE"
    },
    {
      "cell_type": "code",
      "execution_count": 6,
      "metadata": {
        "id": "mhHNC2b87SNZ",
        "colab": {
          "base_uri": "https://localhost:8080/"
        },
        "outputId": "d223edfd-8ad9-4cef-ae33-6148e44b1f44"
      },
      "outputs": [
        {
          "output_type": "stream",
          "name": "stderr",
          "text": [
            "100%|██████████| 24/24 [00:59<00:00,  2.50s/it]\n"
          ]
        }
      ],
      "source": [
        "now = datetime.datetime.now()\n",
        "#PROTIP wrap an iterative loop in python with tqdm.tqdm() and you get a progress bar\n",
        "for i in tqdm.tqdm(range(1999,now.year+1)):\n",
        "    url = 'https://nvd.nist.gov/feeds/json/cve/1.1/nvdcve-1.1-'+str(i)+'.json.gz'\n",
        "    req = requests.get(url, stream=True)\n",
        "    with open('CVE-NVD/GZIP/nvdcve-1.1-'+str(i)+'.json.gz', 'wb') as f:\n",
        "        for chunk in req.iter_content(chunk_size=1024):\n",
        "            if chunk:\n",
        "                f.write(chunk)\n",
        "                f.flush()"
      ],
      "id": "mhHNC2b87SNZ"
    },
    {
      "cell_type": "markdown",
      "metadata": {
        "id": "btOEgkvVTGpV"
      },
      "source": [
        "Here we need to decompress all those gzip files so we can work with the data as json files."
      ],
      "id": "btOEgkvVTGpV"
    },
    {
      "cell_type": "code",
      "execution_count": 7,
      "metadata": {
        "id": "CsOo8_Nv7VSF",
        "colab": {
          "base_uri": "https://localhost:8080/"
        },
        "outputId": "9e9219e5-5b95-49bb-d083-cf1d6b9efe36"
      },
      "outputs": [
        {
          "output_type": "stream",
          "name": "stderr",
          "text": [
            "100%|██████████| 24/24 [00:04<00:00,  4.89it/s]\n"
          ]
        }
      ],
      "source": [
        "for i in tqdm.tqdm(range(1999,now.year+1)):\n",
        "    with gz.open('CVE-NVD/GZIP/nvdcve-1.1-'+str(i)+'.json.gz', 'rb') as f_in:\n",
        "        with open('CVE-NVD/JSON/nvdcve-1.1-'+str(i)+'.json', 'wb')  as f_out:\n",
        "            shutil.copyfileobj(f_in, f_out)"
      ],
      "id": "CsOo8_Nv7VSF"
    },
    {
      "cell_type": "markdown",
      "metadata": {
        "id": "1obZacReVYcn"
      },
      "source": [
        "Now we need to download the MITRE version of CVEs too, which gives us a different kind of information that is useful later. Specifically, it gives us a view of CVEs that didn't make the cut, and some other timestamps we can use to show when CVEs where submitted, as opposed to published. That can help us calculate the rate of publication."
      ],
      "id": "1obZacReVYcn"
    },
    {
      "cell_type": "code",
      "execution_count": 8,
      "metadata": {
        "id": "8zEaEjpIWO5T"
      },
      "outputs": [],
      "source": [
        "url = 'https://cve.mitre.org/data/downloads/allitems.csv'\n",
        "req = requests.get(url, stream=True)\n",
        "now = datetime.datetime.now()\n",
        "with open('CVE-MITRE/CSV/allitems_current.csv', 'wb') as f:\n",
        "    for chunk in req.iter_content(chunk_size=1024):\n",
        "        if chunk:\n",
        "            f.write(chunk)\n",
        "            f.flush()"
      ],
      "id": "8zEaEjpIWO5T"
    },
    {
      "cell_type": "markdown",
      "metadata": {
        "id": "MsUxquJB2Am4"
      },
      "source": [
        "# Convert the data to panda dataframes and csv files"
      ],
      "id": "MsUxquJB2Am4"
    },
    {
      "cell_type": "markdown",
      "metadata": {
        "id": "nHa3etpy2YJT"
      },
      "source": [
        "Here we start to use JQ to make queiries specific to CVE json structure. We pull out the CVE-ID, the published date, the assigner, and the CVSSv2 base score."
      ],
      "id": "nHa3etpy2YJT"
    },
    {
      "cell_type": "code",
      "execution_count": 9,
      "metadata": {
        "id": "583b1cc6",
        "colab": {
          "base_uri": "https://localhost:8080/"
        },
        "outputId": "a3805555-d0f6-49ec-fb6a-3fa5f32bfe3f"
      },
      "outputs": [
        {
          "output_type": "stream",
          "name": "stderr",
          "text": [
            "100%|██████████| 21/21 [06:12<00:00, 17.73s/it]\n"
          ]
        }
      ],
      "source": [
        "cve_id_query = jq.compile(\".CVE_Items[].cve.CVE_data_meta.ID\")\n",
        "cve_publication_query = jq.compile(\".CVE_Items[].publishedDate\")\n",
        "cve_assigner_query = jq.compile(\".CVE_Items[].cve.CVE_data_meta.ASSIGNER\")\n",
        "cvss_score_query = jq.compile(\".CVE_Items[].impact.baseMetricV2.cvssV2.baseScore\")\n",
        "now = datetime.datetime.now()\n",
        "collector = []\n",
        "for i in tqdm.tqdm(range(2002, now.year+1)):\n",
        "    with open('CVE-NVD/JSON/nvdcve-1.1-'+str(i)+'.json') as json_file:\n",
        "        data = json.load(json_file)\n",
        "        pubs = cve_publication_query.input(data).text()\n",
        "        pubs = pubs.split('\\n')\n",
        "        pubs = [pd.to_datetime(ts.strip('\"'), yearfirst=True, infer_datetime_format=True) for ts in pubs]\n",
        "        index= pd.Series(pubs,name='Publication')\n",
        "        cves = cve_id_query.input(data).text()\n",
        "        cves = cves.split('\\n')\n",
        "        cves = [cve.strip('\"') for cve in cves]\n",
        "        assigners = cve_assigner_query.input(data).text()\n",
        "        assigners = assigners.split('\\n')\n",
        "        cvss = cvss_score_query.input(data).text()\n",
        "        cvss = cvss.split('\\n')\n",
        "        #print(cvss)\n",
        "        s1 = pd.Series(cves,name='ID')\n",
        "        s2 = pd.Series(assigners,name='ASSIGNER')\n",
        "        ones = [1]*len(cves)\n",
        "        s3 = pd.Series(ones,name='Count')\n",
        "        s4 = pd.Series(cvss,name='CVSS')\n",
        "        vulns = pd.concat([index,s1,s2,s3,s4], axis=1)\n",
        "        vulns = vulns.set_index('Publication')\n",
        "        collector.append(vulns)\n",
        "        json_file.close()\n",
        "all_items = pd.concat(collector)"
      ],
      "id": "583b1cc6"
    },
    {
      "cell_type": "markdown",
      "metadata": {
        "id": "sgzeBTCf2w1R"
      },
      "source": [
        "Save all the data we just filtered to a CSV file, for future use."
      ],
      "id": "sgzeBTCf2w1R"
    },
    {
      "cell_type": "code",
      "execution_count": 10,
      "metadata": {
        "id": "d5a634b0"
      },
      "outputs": [],
      "source": [
        "all_items.sort_index()\n",
        "all_items.to_csv('NVD-Vulnerability-Volumes.csv')"
      ],
      "id": "d5a634b0"
    },
    {
      "cell_type": "markdown",
      "metadata": {
        "id": "fEoLX86f2727"
      },
      "source": [
        "If you want to read that file in the future, just uncoment the cell below."
      ],
      "id": "fEoLX86f2727"
    },
    {
      "cell_type": "code",
      "execution_count": 11,
      "metadata": {
        "id": "2d2a5b2e"
      },
      "outputs": [],
      "source": [
        "#all_items = pd.read_csv('NVD-Vulnerability-Volumes.csv',parse_dates=['Publication'],infer_datetime_format=True)\n",
        "#all_items.set_index('Publication')"
      ],
      "id": "2d2a5b2e"
    },
    {
      "cell_type": "markdown",
      "metadata": {
        "id": "UhbSci9B-R9y"
      },
      "source": [
        "# How do we even know forecasting CVEs is possible?"
      ],
      "id": "UhbSci9B-R9y"
    },
    {
      "cell_type": "markdown",
      "metadata": {
        "id": "PGmC6IDc7Rod"
      },
      "source": [
        "We will use the [Generlised Hurst Exponent](https://pubsonline.informs.org/do/10.1287/LYTX.2012.04.05/full/)! \n",
        "\n",
        "\"Put simply, the Hurst exponent is used as a measure of the long-term memory of a time series.\"\n",
        "\n",
        "It categorises a timeseries into 1 of three categories: truly random (H=0.5), mean reverting (H<0.5), or long term trending (H>0.5). As we can see in the experiment below, H is about 0.85, reflecting a series that is showing strong trending. This let's us conclude two important thing:\n",
        "\n",
        "\n",
        "\n",
        "1.   This is forecastable, because it has long term trend.\n",
        "2.   This should not be forecast with averages!\n",
        "\n",
        "So regardless of which model we build for forecasting, we know it is possible before we start."
      ],
      "id": "PGmC6IDc7Rod"
    },
    {
      "cell_type": "code",
      "execution_count": 12,
      "metadata": {
        "id": "c6ac99a9"
      },
      "outputs": [],
      "source": [
        "# compute_Hc returns a tuple of 3 values \n",
        "H, c, data = hurst.compute_Hc(all_items['Count'].resample('D').sum(), kind='change', simplified=True)"
      ],
      "id": "c6ac99a9"
    },
    {
      "cell_type": "code",
      "execution_count": 13,
      "metadata": {
        "id": "c2cab890",
        "colab": {
          "base_uri": "https://localhost:8080/",
          "height": 718
        },
        "outputId": "5d025552-7742-4fbd-f62a-dbd2a37f4e48"
      },
      "outputs": [
        {
          "output_type": "display_data",
          "data": {
            "text/plain": [
              "<Figure size 1440x864 with 1 Axes>"
            ],
            "image/png": "[encoded data removed]"
          },
          "metadata": {
            "needs_background": "light"
          }
        }
      ],
      "source": [
        "# Plot\n",
        "f, ax = plt.subplots()\n",
        "ax.plot(data[0], c*data[0]**H, color=\"deepskyblue\")\n",
        "ax.scatter(data[0], data[1], color=\"purple\")\n",
        "ax.set_xscale('log')\n",
        "ax.set_yscale('log')\n",
        "ax.set_xlabel('Time interval')\n",
        "ax.set_ylabel('R/S ratio')\n",
        "ax.grid(True)\n",
        "plt.show()"
      ],
      "id": "c2cab890"
    },
    {
      "cell_type": "code",
      "execution_count": 14,
      "metadata": {
        "id": "kvHNO4sTpyey",
        "colab": {
          "base_uri": "https://localhost:8080/"
        },
        "outputId": "44b0724e-3336-43b8-dbb6-39d109e23fa5"
      },
      "outputs": [
        {
          "output_type": "stream",
          "name": "stdout",
          "text": [
            "H=0.8523, c=1.1662\n"
          ]
        }
      ],
      "source": [
        "print(\"H={:.4f}, c={:.4f}\".format(H,c))"
      ],
      "id": "kvHNO4sTpyey"
    },
    {
      "cell_type": "markdown",
      "metadata": {
        "id": "7S4edCbZ9l1T"
      },
      "source": [
        "Below we can see a visualisation of how many vulnerabilities come out weekly. This is also useful because it let's us discuss why weekly averages wouldn't be useful for a forecast, or more specifically, would have so much variance we wouldn't have much confidence."
      ],
      "id": "7S4edCbZ9l1T"
    },
    {
      "cell_type": "code",
      "execution_count": 15,
      "metadata": {
        "id": "0bc71417",
        "colab": {
          "base_uri": "https://localhost:8080/",
          "height": 734
        },
        "outputId": "d9de4716-7650-4f49-f1b0-2778a4395545"
      },
      "outputs": [
        {
          "output_type": "display_data",
          "data": {
            "text/plain": [
              "<Figure size 1440x864 with 1 Axes>"
            ],
            "image/png": "[encoded data removed]"
          },
          "metadata": {}
        }
      ],
      "source": [
        "now = datetime.datetime.now()\n",
        "all_years = []\n",
        "with plt.style.context('Solarize_Light2'):\n",
        "    for i in range(1999, now.year+1):\n",
        "        yearly_plot = all_items['Count'][all_items.index.year==i]\n",
        "        yearly_plot = yearly_plot.sort_index()\n",
        "        all_years.append(yearly_plot)\n",
        "        plt.plot(yearly_plot.resample('W').sum().index,yearly_plot.resample('W').sum())\n",
        "    \n",
        "# Number of accent colors in the color scheme\n",
        "plt.title('Vulnerabilities per week')\n",
        "plt.xlabel('Year', fontsize=14)\n",
        "plt.ylabel('Number of CVEs Published', fontsize=14)\n",
        "\n",
        "plt.show()"
      ],
      "id": "0bc71417"
    },
    {
      "cell_type": "markdown",
      "metadata": {
        "id": "igyidTN7APMR"
      },
      "source": [
        "# What proportion of CVEs have specific CVSS scores?"
      ],
      "id": "igyidTN7APMR"
    },
    {
      "cell_type": "code",
      "execution_count": 16,
      "metadata": {
        "id": "cfe06785"
      },
      "outputs": [],
      "source": [
        "all_items = all_items.sort_index()\n",
        "all_data=all_items['Count']\n",
        "drop_null = all_items[all_items.CVSS != 'null']\n",
        "data_above_2 = drop_null[drop_null['CVSS'].astype(float)>2.0]['Count']\n",
        "data_above_3 = drop_null[drop_null['CVSS'].astype(float)>3.0]['Count']\n",
        "data_above_4 = drop_null[drop_null['CVSS'].astype(float)>4.0]['Count']\n",
        "data_above_5 = drop_null[drop_null['CVSS'].astype(float)>5.0]['Count']\n",
        "data_above_6 = drop_null[drop_null['CVSS'].astype(float)>6.0]['Count']\n",
        "data_above_7 = drop_null[drop_null['CVSS'].astype(float)>7.0]['Count']\n",
        "data_above_8 = drop_null[drop_null['CVSS'].astype(float)>8.0]['Count']\n",
        "data_above_9 = drop_null[drop_null['CVSS'].astype(float)>9.0]['Count']\n",
        "data_above_2 = data_above_2.resample('M').sum()\n",
        "data_above_3 = data_above_3.resample('M').sum()\n",
        "data_above_4 = data_above_4.resample('M').sum()\n",
        "data_above_5 = data_above_5.resample('M').sum()\n",
        "data_above_6 = data_above_6.resample('M').sum()\n",
        "data_above_7 = data_above_7.resample('M').sum()\n",
        "data_above_8 = data_above_8.resample('M').sum()\n",
        "data_above_9 = data_above_9.resample('M').sum()\n",
        "all_data = all_data.resample('M').sum()\n",
        "cve_counts = pd.concat([all_data,data_above_2,data_above_3,data_above_4,data_above_5,data_above_6,data_above_7,data_above_8,data_above_9], axis=1)"
      ],
      "id": "cfe06785"
    },
    {
      "cell_type": "code",
      "execution_count": 17,
      "metadata": {
        "id": "a6310777"
      },
      "outputs": [],
      "source": [
        "cve_counts.columns.values[0] = 'Total CVE Count'\n",
        "cve_counts.columns.values[1] = 'CVSS Above 2'\n",
        "cve_counts.columns.values[2] = 'CVSS Above 3'\n",
        "cve_counts.columns.values[3] = 'CVSS Above 4'\n",
        "cve_counts.columns.values[4] = 'CVSS Above 5'\n",
        "cve_counts.columns.values[5] = 'CVSS Above 6'\n",
        "cve_counts.columns.values[6] = 'CVSS Above 7'\n",
        "cve_counts.columns.values[7] = 'CVSS Above 8'\n",
        "cve_counts.columns.values[8] = 'CVSS Above 9'\n",
        "cve_counts.to_csv('CVSSProportion.csv')"
      ],
      "id": "a6310777"
    },
    {
      "cell_type": "code",
      "execution_count": 18,
      "metadata": {
        "id": "056be4bd",
        "colab": {
          "base_uri": "https://localhost:8080/",
          "height": 714
        },
        "outputId": "6877540c-b083-4b12-ac81-11eadf99b603"
      },
      "outputs": [
        {
          "output_type": "display_data",
          "data": {
            "text/plain": [
              "<Figure size 1440x864 with 1 Axes>"
            ],
            "image/png": "[encoded data removed]"
          },
          "metadata": {
            "needs_background": "light"
          }
        }
      ],
      "source": [
        "#Graph the proportions of vulnerabilities by CVSS score\n",
        "ax = sns.lineplot(data=cve_counts.cumsum())\n",
        "plt.show()"
      ],
      "id": "056be4bd"
    },
    {
      "cell_type": "code",
      "execution_count": 19,
      "metadata": {
        "id": "EzdcYIP4CyDL",
        "colab": {
          "base_uri": "https://localhost:8080/",
          "height": 717
        },
        "outputId": "5e59dbcb-04bc-446d-babf-4def0398b5da"
      },
      "outputs": [
        {
          "output_type": "display_data",
          "data": {
            "text/plain": [
              "<Figure size 1440x864 with 1 Axes>"
            ],
            "image/png": "[encoded data removed]"
          },
          "metadata": {
            "needs_background": "light"
          }
        }
      ],
      "source": [
        "ax = sns.histplot(drop_null['CVSS'].astype(float).sort_values())\n",
        "ax.tick_params(axis='x', rotation=90)"
      ],
      "id": "EzdcYIP4CyDL"
    },
    {
      "cell_type": "markdown",
      "metadata": {
        "id": "7tPOjzkZeq41"
      },
      "source": [
        "##Exercise 1: Warm up by checking some data\n",
        "\n",
        "Check that the CVSS score percentages sum to one."
      ],
      "id": "7tPOjzkZeq41"
    },
    {
      "cell_type": "code",
      "execution_count": 20,
      "metadata": {
        "colab": {
          "base_uri": "https://localhost:8080/"
        },
        "id": "f9FgS5u-WXaS",
        "outputId": "0e4c664c-6ef0-4c9f-df04-e1ed44b21c8e"
      },
      "outputs": [
        {
          "output_type": "execute_result",
          "data": {
            "text/plain": [
              "0.0     0.000128\n",
              "1.0     0.000050\n",
              "1.2     0.000961\n",
              "1.3     0.000011\n",
              "1.4     0.000022\n",
              "          ...   \n",
              "9.0     0.013953\n",
              "9.3     0.045819\n",
              "9.4     0.000683\n",
              "9.7     0.000061\n",
              "10.0    0.050389\n",
              "Name: CVSS, Length: 73, dtype: float64"
            ]
          },
          "metadata": {},
          "execution_count": 20
        }
      ],
      "source": [
        "#Let's a table of CVSS score percentages so we can use it later\n",
        "df = drop_null['CVSS'].astype(float).value_counts() / len(drop_null['CVSS'])\n",
        "df.sort_index()\n",
        "#TODO check they sum to 1"
      ],
      "id": "f9FgS5u-WXaS"
    },
    {
      "cell_type": "markdown",
      "metadata": {
        "id": "-dzqUhI-eC1D"
      },
      "source": [
        "For an exceptional (and lengthy) deep dive on CVSS scores and their distribution and methodology see [Theory Of Predictiable Software](https://theoryof.predictable.software/articles/a-closer-look-at-cvss-scores/)."
      ],
      "id": "-dzqUhI-eC1D"
    },
    {
      "cell_type": "markdown",
      "metadata": {
        "id": "mTKfgPgIAjqH"
      },
      "source": [
        "# Forecasting with CVE-IDs"
      ],
      "id": "mTKfgPgIAjqH"
    },
    {
      "cell_type": "markdown",
      "metadata": {
        "id": "SXRnAk-fRgXP"
      },
      "source": [
        "To construct a serial number prediction forecasting model, we need to divide all the CVEs that have a string format containing this year. This will be \"observations\" of how many vulnerabilities have we already observed of the form CVE-2022-XXXXXX. This will allow us to estimate the size of the queue of vulnerabilities at NVD waiting for confirmation. \n",
        "\n",
        "CVE-YEAR-XXXX[XX]\n",
        "CVE = Common Vulnerability Enumeration\n",
        "YEAR = Year of ASSIGNMENT (NOT YEAR OF PUBLICATION)\n",
        "XXXX = Sequential numbers across all CVEs"
      ],
      "id": "SXRnAk-fRgXP"
    },
    {
      "cell_type": "markdown",
      "metadata": {
        "id": "QlIF5mhpfvWa"
      },
      "source": [
        "##Exercise 2: Find CVEs published in different years than their ID Shows\n",
        "Find some CVEs that have a different year of publication, than year in their ID.\n",
        "##Bonus points for finding the CVE that took the longest time to get published."
      ],
      "id": "QlIF5mhpfvWa"
    },
    {
      "cell_type": "code",
      "execution_count": 21,
      "metadata": {
        "id": "7tCHxrMxcP94",
        "colab": {
          "base_uri": "https://localhost:8080/",
          "height": 394
        },
        "outputId": "e36ece9a-7648-4da9-d7cf-d9c6415beca3"
      },
      "outputs": [
        {
          "output_type": "execute_result",
          "data": {
            "text/plain": [
              "                                ID         ASSIGNER  Count CVSS\n",
              "Publication                                                    \n",
              "1988-10-01 04:00:00  CVE-1999-0095  \"cve@mitre.org\"      1   10\n",
              "1988-11-11 05:00:00  CVE-1999-0082  \"cve@mitre.org\"      1   10\n",
              "1989-01-01 05:00:00  CVE-1999-1471  \"cve@mitre.org\"      1  7.2\n",
              "1989-07-26 04:00:00  CVE-1999-1122  \"cve@mitre.org\"      1  4.6\n",
              "1989-10-26 04:00:00  CVE-1999-1467  \"cve@mitre.org\"      1   10\n",
              "1990-01-29 05:00:00  CVE-1999-1506  \"cve@mitre.org\"      1  7.5\n",
              "1990-05-01 04:00:00  CVE-1999-0084  \"cve@mitre.org\"      1  7.2\n",
              "1990-05-09 04:00:00  CVE-2000-0388  \"cve@mitre.org\"      1  7.5\n",
              "1990-08-14 04:00:00  CVE-1999-0209  \"cve@mitre.org\"      1    5\n",
              "1990-10-03 04:00:00  CVE-1999-1198  \"cve@mitre.org\"      1  7.2"
            ],
            "text/html": [
              "\n",
              "  <div id=\"df-9759de6e-7a70-4b2d-b54e-f1d1be783487\">\n",
              "    <div class=\"colab-df-container\">\n",
              "      <div>\n",
              "<style scoped>\n",
              "    .dataframe tbody tr th:only-of-type {\n",
              "        vertical-align: middle;\n",
              "    }\n",
              "\n",
              "    .dataframe tbody tr th {\n",
              "        vertical-align: top;\n",
              "    }\n",
              "\n",
              "    .dataframe thead th {\n",
              "        text-align: right;\n",
              "    }\n",
              "</style>\n",
              "<table border=\"1\" class=\"dataframe\">\n",
              "  <thead>\n",
              "    <tr style=\"text-align: right;\">\n",
              "      <th></th>\n",
              "      <th>ID</th>\n",
              "      <th>ASSIGNER</th>\n",
              "      <th>Count</th>\n",
              "      <th>CVSS</th>\n",
              "    </tr>\n",
              "    <tr>\n",
              "      <th>Publication</th>\n",
              "      <th></th>\n",
              "      <th></th>\n",
              "      <th></th>\n",
              "      <th></th>\n",
              "    </tr>\n",
              "  </thead>\n",
              "  <tbody>\n",
              "    <tr>\n",
              "      <th>1988-10-01 04:00:00</th>\n",
              "      <td>CVE-1999-0095</td>\n",
              "      <td>\"cve@mitre.org\"</td>\n",
              "      <td>1</td>\n",
              "      <td>10</td>\n",
              "    </tr>\n",
              "    <tr>\n",
              "      <th>1988-11-11 05:00:00</th>\n",
              "      <td>CVE-1999-0082</td>\n",
              "      <td>\"cve@mitre.org\"</td>\n",
              "      <td>1</td>\n",
              "      <td>10</td>\n",
              "    </tr>\n",
              "    <tr>\n",
              "      <th>1989-01-01 05:00:00</th>\n",
              "      <td>CVE-1999-1471</td>\n",
              "      <td>\"cve@mitre.org\"</td>\n",
              "      <td>1</td>\n",
              "      <td>7.2</td>\n",
              "    </tr>\n",
              "    <tr>\n",
              "      <th>1989-07-26 04:00:00</th>\n",
              "      <td>CVE-1999-1122</td>\n",
              "      <td>\"cve@mitre.org\"</td>\n",
              "      <td>1</td>\n",
              "      <td>4.6</td>\n",
              "    </tr>\n",
              "    <tr>\n",
              "      <th>1989-10-26 04:00:00</th>\n",
              "      <td>CVE-1999-1467</td>\n",
              "      <td>\"cve@mitre.org\"</td>\n",
              "      <td>1</td>\n",
              "      <td>10</td>\n",
              "    </tr>\n",
              "    <tr>\n",
              "      <th>1990-01-29 05:00:00</th>\n",
              "      <td>CVE-1999-1506</td>\n",
              "      <td>\"cve@mitre.org\"</td>\n",
              "      <td>1</td>\n",
              "      <td>7.5</td>\n",
              "    </tr>\n",
              "    <tr>\n",
              "      <th>1990-05-01 04:00:00</th>\n",
              "      <td>CVE-1999-0084</td>\n",
              "      <td>\"cve@mitre.org\"</td>\n",
              "      <td>1</td>\n",
              "      <td>7.2</td>\n",
              "    </tr>\n",
              "    <tr>\n",
              "      <th>1990-05-09 04:00:00</th>\n",
              "      <td>CVE-2000-0388</td>\n",
              "      <td>\"cve@mitre.org\"</td>\n",
              "      <td>1</td>\n",
              "      <td>7.5</td>\n",
              "    </tr>\n",
              "    <tr>\n",
              "      <th>1990-08-14 04:00:00</th>\n",
              "      <td>CVE-1999-0209</td>\n",
              "      <td>\"cve@mitre.org\"</td>\n",
              "      <td>1</td>\n",
              "      <td>5</td>\n",
              "    </tr>\n",
              "    <tr>\n",
              "      <th>1990-10-03 04:00:00</th>\n",
              "      <td>CVE-1999-1198</td>\n",
              "      <td>\"cve@mitre.org\"</td>\n",
              "      <td>1</td>\n",
              "      <td>7.2</td>\n",
              "    </tr>\n",
              "  </tbody>\n",
              "</table>\n",
              "</div>\n",
              "      <button class=\"colab-df-convert\" onclick=\"convertToInteractive('df-9759de6e-7a70-4b2d-b54e-f1d1be783487')\"\n",
              "              title=\"Convert this dataframe to an interactive table.\"\n",
              "              style=\"display:none;\">\n",
              "        \n",
              "  <svg xmlns=\"http://www.w3.org/2000/svg\" height=\"24px\"viewBox=\"0 0 24 24\"\n",
              "       width=\"24px\">\n",
              "    <path d=\"M0 0h24v24H0V0z\" fill=\"none\"/>\n",
              "    <path d=\"M18.56 5.44l.94 2.06.94-2.06 2.06-.94-2.06-.94-.94-2.06-.94 2.06-2.06.94zm-11 1L8.5 8.5l.94-2.06 2.06-.94-2.06-.94L8.5 2.5l-.94 2.06-2.06.94zm10 10l.94 2.06.94-2.06 2.06-.94-2.06-.94-.94-2.06-.94 2.06-2.06.94z\"/><path d=\"M17.41 7.96l-1.37-1.37c-.4-.4-.92-.59-1.43-.59-.52 0-1.04.2-1.43.59L10.3 9.45l-7.72 7.72c-.78.78-.78 2.05 0 2.83L4 21.41c.39.39.9.59 1.41.59.51 0 1.02-.2 1.41-.59l7.78-7.78 2.81-2.81c.8-.78.8-2.07 0-2.86zM5.41 20L4 18.59l7.72-7.72 1.47 1.35L5.41 20z\"/>\n",
              "  </svg>\n",
              "      </button>\n",
              "      \n",
              "  <style>\n",
              "    .colab-df-container {\n",
              "      display:flex;\n",
              "      flex-wrap:wrap;\n",
              "      gap: 12px;\n",
              "    }\n",
              "\n",
              "    .colab-df-convert {\n",
              "      background-color: #E8F0FE;\n",
              "      border: none;\n",
              "      border-radius: 50%;\n",
              "      cursor: pointer;\n",
              "      display: none;\n",
              "      fill: #1967D2;\n",
              "      height: 32px;\n",
              "      padding: 0 0 0 0;\n",
              "      width: 32px;\n",
              "    }\n",
              "\n",
              "    .colab-df-convert:hover {\n",
              "      background-color: #E2EBFA;\n",
              "      box-shadow: 0px 1px 2px rgba(60, 64, 67, 0.3), 0px 1px 3px 1px rgba(60, 64, 67, 0.15);\n",
              "      fill: #174EA6;\n",
              "    }\n",
              "\n",
              "    [theme=dark] .colab-df-convert {\n",
              "      background-color: #3B4455;\n",
              "      fill: #D2E3FC;\n",
              "    }\n",
              "\n",
              "    [theme=dark] .colab-df-convert:hover {\n",
              "      background-color: #434B5C;\n",
              "      box-shadow: 0px 1px 3px 1px rgba(0, 0, 0, 0.15);\n",
              "      filter: drop-shadow(0px 1px 2px rgba(0, 0, 0, 0.3));\n",
              "      fill: #FFFFFF;\n",
              "    }\n",
              "  </style>\n",
              "\n",
              "      <script>\n",
              "        const buttonEl =\n",
              "          document.querySelector('#df-9759de6e-7a70-4b2d-b54e-f1d1be783487 button.colab-df-convert');\n",
              "        buttonEl.style.display =\n",
              "          google.colab.kernel.accessAllowed ? 'block' : 'none';\n",
              "\n",
              "        async function convertToInteractive(key) {\n",
              "          const element = document.querySelector('#df-9759de6e-7a70-4b2d-b54e-f1d1be783487');\n",
              "          const dataTable =\n",
              "            await google.colab.kernel.invokeFunction('convertToInteractive',\n",
              "                                                     [key], {});\n",
              "          if (!dataTable) return;\n",
              "\n",
              "          const docLinkHtml = 'Like what you see? Visit the ' +\n",
              "            '<a target=\"_blank\" href=https://colab.research.google.com/notebooks/data_table.ipynb>data table notebook</a>'\n",
              "            + ' to learn more about interactive tables.';\n",
              "          element.innerHTML = '';\n",
              "          dataTable['output_type'] = 'display_data';\n",
              "          await google.colab.output.renderOutput(dataTable, element);\n",
              "          const docLink = document.createElement('div');\n",
              "          docLink.innerHTML = docLinkHtml;\n",
              "          element.appendChild(docLink);\n",
              "        }\n",
              "      </script>\n",
              "    </div>\n",
              "  </div>\n",
              "  "
            ]
          },
          "metadata": {},
          "execution_count": 21
        }
      ],
      "source": [
        "#Prove to yourself that the year reflects the date of assignment NOT the date of publication. Find a CVE that is published in a different year than it's ID\n",
        "all_items.head(10)\n",
        "#BONUS - What CVE took the most years to be published?"
      ],
      "id": "7tCHxrMxcP94"
    },
    {
      "cell_type": "markdown",
      "metadata": {
        "id": "6OcPq9lugOVJ"
      },
      "source": [
        "[In WWII Britain estimated German Mark IV and V tank production numbers from the serial numbers on their transmission systems.](https://www.theguardian.com/world/2006/jul/20/secondworldwar.tvandradio). This serial number as a predictor of population size is taught in various statistics classes. We're going to do the exact same thing with CVE ids. That will show us the number of CVEs waiting in reserve\n",
        "\n",
        "First we'll need to get data in the right format to use for a serial number predictor."
      ],
      "id": "6OcPq9lugOVJ"
    },
    {
      "cell_type": "code",
      "execution_count": 22,
      "metadata": {
        "id": "rRxRB5Zsaicq"
      },
      "outputs": [],
      "source": [
        "#Takes a datetime.datetime() object\n",
        "#For example, if we want to predict from Juneteenth 2018 at 1 AM:\n",
        "#datetime.datetime(2018, 6, 19, 1, 0) \n",
        "def getiddata(date_of_prediction):\n",
        "  #We make this date global so we can access it later for retrocasting\n",
        "  #For example we would need to add a year to it and check the actuals\n",
        "  global prediction\n",
        "  prediction = date_of_prediction\n",
        "  year = date_of_prediction.year\n",
        "  #date = pd.to_datetime(filter_date, format='%Y%m%d %H%M')\n",
        "  # all_items = all_items[all_items.index<=date]\n",
        "  df = all_items[all_items.index<=date_of_prediction]\n",
        "  ids = df['ID'].to_list()\n",
        "  this_year = []\n",
        "  for i in ids:\n",
        "    triple = i.split('-')\n",
        "    if triple[1] == str(year):\n",
        "      this_year.append(triple[2])\n",
        "  return this_year"
      ],
      "id": "rRxRB5Zsaicq"
    },
    {
      "cell_type": "code",
      "execution_count": 23,
      "metadata": {
        "id": "BshC3IQ5sQDF"
      },
      "outputs": [],
      "source": [
        "#this_year = getiddata(datetime.datetime(2018, 6, 19, 1, 0))\n",
        "this_year = getiddata(now)"
      ],
      "id": "BshC3IQ5sQDF"
    },
    {
      "cell_type": "markdown",
      "metadata": {
        "id": "mU2YWP9VSHi9"
      },
      "source": [
        "We also need to use this number of observations to increase our confidence as we see more observations. To put it simply, when we've only seen a handful of vulnerabilities come out, we're not very confident of our forecast, but after thousands it's much more accurate. This number of observations helps us scale our confidence."
      ],
      "id": "mU2YWP9VSHi9"
    },
    {
      "cell_type": "code",
      "execution_count": 24,
      "metadata": {
        "id": "ZKNdb9nkdCnw",
        "colab": {
          "base_uri": "https://localhost:8080/"
        },
        "outputId": "a69a3ffb-e3a8-45ef-8087-4b6218fe7da6"
      },
      "outputs": [
        {
          "output_type": "execute_result",
          "data": {
            "text/plain": [
              "10833"
            ]
          },
          "metadata": {},
          "execution_count": 24
        }
      ],
      "source": [
        "#Observations of CVE IDs matching the pattern with the year of interest.\n",
        "obs = len(this_year)\n",
        "obs"
      ],
      "id": "ZKNdb9nkdCnw"
    },
    {
      "cell_type": "markdown",
      "metadata": {
        "id": "zA3Q3Qe_Smzh"
      },
      "source": [
        "The number below captures the number of CVEs that have been published this year, but also includes those that were assigned and logged in previous years (I.E. Have a different CVE-ID Year).That's why it is larger, and more accurately reflects the number that have *come out this year* than the observations variable above."
      ],
      "id": "zA3Q3Qe_Smzh"
    },
    {
      "cell_type": "code",
      "execution_count": 25,
      "metadata": {
        "id": "PBzq5SJ5QKWw",
        "colab": {
          "base_uri": "https://localhost:8080/"
        },
        "outputId": "75df2c17-d721-4cad-bb67-775e673d494b"
      },
      "outputs": [
        {
          "output_type": "execute_result",
          "data": {
            "text/plain": [
              "15776"
            ]
          },
          "metadata": {},
          "execution_count": 25
        }
      ],
      "source": [
        "#Different but related question, how many vulnerabilities have come out this year?\n",
        "#NOTE we used the global variable prediction here to make retrocasting easier leter on\n",
        "mask = (all_items.index >= datetime.datetime(prediction.year,1,1,0)) & (all_items.index <= prediction)\n",
        "this_year_count = len(all_items.loc[mask])\n",
        "this_year_count"
      ],
      "id": "PBzq5SJ5QKWw"
    },
    {
      "cell_type": "markdown",
      "metadata": {
        "id": "OMiyccHmjSPd"
      },
      "source": [
        "Now we can subtract one from the other to see how many vulnerabilities published this year were assigned in earlier years."
      ],
      "id": "OMiyccHmjSPd"
    },
    {
      "cell_type": "code",
      "execution_count": 26,
      "metadata": {
        "id": "g1_j__1aSuld",
        "colab": {
          "base_uri": "https://localhost:8080/"
        },
        "outputId": "213a1b63-085d-4443-d038-25405f86a516"
      },
      "outputs": [
        {
          "output_type": "execute_result",
          "data": {
            "text/plain": [
              "4943"
            ]
          },
          "metadata": {},
          "execution_count": 26
        }
      ],
      "source": [
        "lagged_publications = this_year_count-obs\n",
        "lagged_publications"
      ],
      "id": "g1_j__1aSuld"
    },
    {
      "cell_type": "markdown",
      "metadata": {
        "id": "JVkBUoYjTgoZ"
      },
      "source": [
        "Here we finally construct our first forecast, the basic serial number prediction or \"minimum variance unbiased estimator\" (MVUE for short) discussed in the history article. We scale it's projections by the number of observations. For those of you who are mathematicallty minded, this is really a simple equation:\n",
        "\n",
        "$N \\approx MAXID + \\frac{MAXID}{OBSERVATIONS} - 1$\n",
        "\n",
        "Note how the fraction converges towards one as you witness all CVE IDs, and the -1 at the end cancels this out. This scaling factor helps us scale a lot when we have a small number of samples at the beggining of the year, and then a very small amount when we have more observations toward the end of the year. In other words, we get more accurate the more CVEs are released.\n",
        "\n",
        "Now don't forget this number predicts how many vulnerabilities there are with a specific format, not exactly how many will be published. In short it estimates the size of the queue waiting to be published. So we need to scale this number down by the number that will be not be published within the year. Which is roughly 5%."
      ],
      "id": "JVkBUoYjTgoZ"
    },
    {
      "cell_type": "code",
      "execution_count": 27,
      "metadata": {
        "id": "31ab1124"
      },
      "outputs": [],
      "source": [
        "#Queue size\n",
        "mvue = round(int(max(this_year))+(int(max(this_year))/int(obs))-1)\n",
        "mvue = mvue*0.95"
      ],
      "id": "31ab1124"
    },
    {
      "cell_type": "markdown",
      "metadata": {
        "id": "IXqTXLVtHWz4"
      },
      "source": [
        "##Exercise 3: Add prediction intervals"
      ],
      "id": "IXqTXLVtHWz4"
    },
    {
      "cell_type": "markdown",
      "metadata": {
        "id": "NQjifHKlkNjy"
      },
      "source": [
        "Here we're going to teach you the most naive way to calculate prediction intervals, because you can use it in almost any situation. Later, we'll show you a better way.\n",
        "\n",
        "If you have a sequence of $N$ numbers, and you add one more...the chance of it being larger than any of the others is $\\frac{1}{N+1}$. Similarly, the chance of it being smaller than any of other numbers is the same. Thus the chance of it being between all the other numbers in the sequence is the reciprocal $\\frac{N-2}{N}$. This is obviously untrue when you know the distribution of the numbers, but is a way to estimate when you have NO OTHER INFORMATION AVAILABLE.\n",
        "\n",
        "Much better ways are to test your error rates empirically. This can take a long time, if you make a prediction, and then wait to find out if it was accurate. "
      ],
      "id": "NQjifHKlkNjy"
    },
    {
      "cell_type": "code",
      "execution_count": 28,
      "metadata": {
        "id": "fW2rL2ZDVJdh",
        "colab": {
          "base_uri": "https://localhost:8080/"
        },
        "outputId": "edc0d757-8af2-4abd-d64e-e3e082a1a14a"
      },
      "outputs": [
        {
          "output_type": "execute_result",
          "data": {
            "text/plain": [
              "10833"
            ]
          },
          "metadata": {},
          "execution_count": 28
        }
      ],
      "source": [
        "naive_prediction_interval = round(obs-2/obs)\n",
        "naive_prediction_interval"
      ],
      "id": "fW2rL2ZDVJdh"
    },
    {
      "cell_type": "code",
      "execution_count": 29,
      "metadata": {
        "id": "HuQTbO9mVXaM",
        "colab": {
          "base_uri": "https://localhost:8080/"
        },
        "outputId": "faaa43f2-61db-4197-b56b-721f1be53fa7"
      },
      "outputs": [
        {
          "output_type": "execute_result",
          "data": {
            "text/plain": [
              "45276"
            ]
          },
          "metadata": {},
          "execution_count": 29
        }
      ],
      "source": [
        "naive_upper_prediction_interval = round(mvue*0.95+naive_prediction_interval)\n",
        "naive_upper_prediction_interval"
      ],
      "id": "HuQTbO9mVXaM"
    },
    {
      "cell_type": "code",
      "execution_count": 30,
      "metadata": {
        "id": "OaQmt2uYVXuN",
        "colab": {
          "base_uri": "https://localhost:8080/"
        },
        "outputId": "771a949b-73ba-4084-bd42-580c50f159d4"
      },
      "outputs": [
        {
          "output_type": "execute_result",
          "data": {
            "text/plain": [
              "23610"
            ]
          },
          "metadata": {},
          "execution_count": 30
        }
      ],
      "source": [
        "naive_lower_prediction_interval = round(mvue*0.95-naive_prediction_interval)\n",
        "naive_lower_prediction_interval"
      ],
      "id": "OaQmt2uYVXuN"
    },
    {
      "cell_type": "markdown",
      "metadata": {
        "id": "zNWETbqGTtTS"
      },
      "source": [
        "Now, we'll need some way of measuring the quality of forecasts which has a lovely side effect of narrowing our prediction intervals to a much more useful level. Ideally, you retrocast or back test every value you could have historically, and test your error rates. We may not have time or computing power to do all that today, so we'll use the value in our paper which was the average MAPE over all years we studied."
      ],
      "id": "zNWETbqGTtTS"
    },
    {
      "cell_type": "code",
      "execution_count": 31,
      "metadata": {
        "id": "uuHL_X7hpA_z"
      },
      "outputs": [],
      "source": [
        "#We'll use the empirical values Matilda and I discovered in the paper because testing them again could take you weeks!\n",
        "average_mape = 0.08\n",
        "empirical_prediction_interval = average_mape*mvue\n",
        "#HOMEWORK write a method to retrocast/backtest predictions against historical data using MAE and MAPE functions below"
      ],
      "id": "uuHL_X7hpA_z"
    },
    {
      "cell_type": "code",
      "execution_count": 32,
      "metadata": {
        "id": "t0LosJFV4Hie"
      },
      "outputs": [],
      "source": [
        "#Mean Absolute Error\n",
        "def mae(Y_actual, Y_Predicted):\n",
        "    return np.mean(np.abs(Y_actual - Y_Predicted))\n",
        "\n",
        "#Mean Absolute Percentage Error\n",
        "def MAPE(Y_actual,Y_Predicted):\n",
        "    mape = np.mean(np.abs((Y_actual - Y_Predicted)/Y_actual))*100\n",
        "    return mape"
      ],
      "id": "t0LosJFV4Hie"
    },
    {
      "cell_type": "code",
      "execution_count": 33,
      "metadata": {
        "id": "q79wajKJ_3mD",
        "colab": {
          "base_uri": "https://localhost:8080/"
        },
        "outputId": "155d65e3-da75-4ffb-d208-4f973cdb8a5f"
      },
      "outputs": [
        {
          "output_type": "execute_result",
          "data": {
            "text/plain": [
              "33355"
            ]
          },
          "metadata": {},
          "execution_count": 33
        }
      ],
      "source": [
        "mape_lower_prediction_interval = round(mvue-empirical_prediction_interval)\n",
        "mape_lower_prediction_interval"
      ],
      "id": "q79wajKJ_3mD"
    },
    {
      "cell_type": "code",
      "execution_count": 34,
      "metadata": {
        "id": "PFWJ-labpmxl",
        "colab": {
          "base_uri": "https://localhost:8080/"
        },
        "outputId": "85459558-86bb-43f3-c786-3ddfbd8006d6"
      },
      "outputs": [
        {
          "output_type": "execute_result",
          "data": {
            "text/plain": [
              "39156"
            ]
          },
          "metadata": {},
          "execution_count": 34
        }
      ],
      "source": [
        "mape_upper_prediction_interval = round(mvue+empirical_prediction_interval)\n",
        "mape_upper_prediction_interval"
      ],
      "id": "PFWJ-labpmxl"
    },
    {
      "cell_type": "code",
      "execution_count": 39,
      "metadata": {
        "colab": {
          "base_uri": "https://localhost:8080/"
        },
        "id": "gDZRs38AO2k_",
        "outputId": "50ede655-7964-4ffa-ca0d-0dc5366b52c8"
      },
      "outputs": [
        {
          "output_type": "execute_result",
          "data": {
            "text/plain": [
              "Publication\n",
              "1988-10-01 04:00:00         1\n",
              "1988-11-11 05:00:00         2\n",
              "1989-01-01 05:00:00         3\n",
              "1989-07-26 04:00:00         4\n",
              "1989-10-26 04:00:00         5\n",
              "                        ...  \n",
              "2022-08-11 15:15:00    192993\n",
              "2022-08-11 15:15:00    192994\n",
              "2022-08-11 15:15:00    192995\n",
              "2022-08-11 15:15:00    192996\n",
              "2022-08-11 15:15:00    192997\n",
              "Name: Count, Length: 192997, dtype: int64"
            ]
          },
          "metadata": {},
          "execution_count": 39
        }
      ],
      "source": [
        "#TODO Graph actual counts, and the prediction and the prediction intervals as projections\n",
        "df = all_items[all_items.index<=prediction]\n",
        "#sns.lineplot(df['Count'].cumsum())\n",
        "df['Count'].cumsum()"
      ],
      "id": "gDZRs38AO2k_"
    },
    {
      "cell_type": "code",
      "execution_count": 42,
      "metadata": {
        "id": "G-0qv224cTuc"
      },
      "outputs": [],
      "source": [
        "file = 'CVE-MITRE/CSV/allitems_current.csv'\n",
        "mitre_view = pd.read_csv(file, encoding='latin1',skiprows=[0,1,3,4,5,6,7,8,9],low_memory=False)"
      ],
      "id": "G-0qv224cTuc"
    },
    {
      "cell_type": "code",
      "execution_count": 43,
      "metadata": {
        "id": "QbbfRNPEpbYd",
        "colab": {
          "base_uri": "https://localhost:8080/"
        },
        "outputId": "b9924dfd-09c7-4ecf-9515-f5837854a08b"
      },
      "outputs": [
        {
          "output_type": "stream",
          "name": "stderr",
          "text": [
            "/usr/local/lib/python3.7/dist-packages/ipykernel_launcher.py:3: FutureWarning: The default value of regex will change from True to False in a future version. In addition, single character regular expressions will *not* be treated as literal strings when regex=True.\n",
            "  This is separate from the ipykernel package so we can avoid doing imports until\n"
          ]
        }
      ],
      "source": [
        "operations_df = mitre_view['Phase'].str.split(' ',expand=True)\n",
        "mitre_view['Operation'] = operations_df[0]\n",
        "mitre_view['Operation Date'] = operations_df[1].str.replace('(','').str.replace(')','')\n",
        "mitre_view['Operation Date'] = pd.to_datetime(mitre_view['Operation Date'])"
      ],
      "id": "QbbfRNPEpbYd"
    },
    {
      "cell_type": "markdown",
      "source": [
        "##Exercise 4: What is the average service time?"
      ],
      "metadata": {
        "id": "mv_JZsKojdmc"
      },
      "id": "mv_JZsKojdmc"
    },
    {
      "cell_type": "markdown",
      "source": [
        "Another way to look at average service time, is to ask what is the probability that a CVE that is assigned is published within a certain window."
      ],
      "metadata": {
        "id": "b3CWqEQlodHm"
      },
      "id": "b3CWqEQlodHm"
    },
    {
      "cell_type": "code",
      "execution_count": 62,
      "metadata": {
        "id": "1DXVCr6CTG9P",
        "colab": {
          "base_uri": "https://localhost:8080/",
          "height": 976
        },
        "outputId": "664e618e-6788-4796-c28e-c197ef9899cb"
      },
      "outputs": [
        {
          "output_type": "execute_result",
          "data": {
            "text/plain": [
              "                                ID         ASSIGNER  Count CVSS     Status  \\\n",
              "Publication                                                                  \n",
              "1995-08-23 04:00:00  CVE-1999-1580  \"cve@mitre.org\"      1  7.2  Candidate   \n",
              "1996-07-16 04:00:00  CVE-1999-1572  \"cve@mitre.org\"      1  2.1  Candidate   \n",
              "1997-12-23 05:00:00  CVE-1999-1581  \"cve@mitre.org\"      1    5  Candidate   \n",
              "1998-07-06 04:00:00  CVE-1999-1574  \"cve@mitre.org\"      1  7.5  Candidate   \n",
              "1998-07-15 04:00:00  CVE-1999-1582  \"cve@mitre.org\"      1  7.5  Candidate   \n",
              "1999-09-10 04:00:00  CVE-1999-1575  \"cve@mitre.org\"      1  5.1  Candidate   \n",
              "1999-09-24 04:00:00  CVE-1999-1578  \"cve@mitre.org\"      1  5.1  Candidate   \n",
              "1999-09-27 04:00:00  CVE-1999-1576  \"cve@mitre.org\"      1  7.5  Candidate   \n",
              "1999-09-30 04:00:00  CVE-1999-1583  \"cve@mitre.org\"      1  7.2  Candidate   \n",
              "1999-10-31 04:00:00  CVE-1999-1577  \"cve@mitre.org\"      1  5.1  Candidate   \n",
              "\n",
              "                                                           Description  \\\n",
              "Publication                                                              \n",
              "1995-08-23 04:00:00  SunOS sendmail 5.59 through 5.65 uses popen to...   \n",
              "1996-07-16 04:00:00  cpio on FreeBSD 2.1.0, Debian GNU/Linux 3.0, a...   \n",
              "1997-12-23 05:00:00  Memory leak in Simple Network Management Proto...   \n",
              "1998-07-06 04:00:00  Buffer overflow in the lex routines of nslooku...   \n",
              "1998-07-15 04:00:00  By design, the \"established\" command on the Ci...   \n",
              "1999-09-10 04:00:00  The Kodak/Wang (1) Image Edit (imgedit.ocx), (...   \n",
              "1999-09-24 04:00:00  Buffer overflow in Registration Wizard ActiveX...   \n",
              "1999-09-27 04:00:00  Buffer overflow in Adobe Acrobat ActiveX contr...   \n",
              "1999-09-30 04:00:00  Buffer overflow in nslookup for AIX 4.3 allows...   \n",
              "1999-10-31 04:00:00  Buffer overflow in HHOpen ActiveX control (hho...   \n",
              "\n",
              "                                                            References  \\\n",
              "Publication                                                              \n",
              "1995-08-23 04:00:00  AUSCERT:AA-95.09   |   URL:http://www.auscert....   \n",
              "1996-07-16 04:00:00  BUGTRAQ:20050204 [USN-75-1] cpio vulnerability...   \n",
              "1997-12-23 05:00:00  CERT-VN:VU#4923   |   URL:http://www.kb.cert.o...   \n",
              "1998-07-06 04:00:00  AIXAPAR:IX79909   |   URL:http://www-1.ibm.com...   \n",
              "1998-07-15 04:00:00  CERT-VN:VU#6733   |   URL:http://www.kb.cert.o...   \n",
              "1999-09-10 04:00:00  BUGTRAQ:19990924 Several ActiveX Buffer Overru...   \n",
              "1999-09-24 04:00:00  BID:671   |   URL:http://www.securityfocus.com...   \n",
              "1999-09-27 04:00:00  BID:666   |   URL:http://www.securityfocus.com...   \n",
              "1999-09-30 04:00:00  AIXAPAR:IY02120   |   URL:http://www-1.ibm.com...   \n",
              "1999-10-31 04:00:00  BID:669   |   URL:http://www.securityfocus.com...   \n",
              "\n",
              "                                   Phase                              Votes  \\\n",
              "Publication                                                                   \n",
              "1995-08-23 04:00:00  Assigned (20050421)  None (candidate not yet proposed)   \n",
              "1996-07-16 04:00:00  Assigned (20050127)  None (candidate not yet proposed)   \n",
              "1997-12-23 05:00:00  Assigned (20050421)  None (candidate not yet proposed)   \n",
              "1998-07-06 04:00:00  Assigned (20050421)  None (candidate not yet proposed)   \n",
              "1998-07-15 04:00:00  Assigned (20050421)  None (candidate not yet proposed)   \n",
              "1999-09-10 04:00:00  Assigned (20050421)  None (candidate not yet proposed)   \n",
              "1999-09-24 04:00:00  Assigned (20050421)  None (candidate not yet proposed)   \n",
              "1999-09-27 04:00:00  Assigned (20050421)  None (candidate not yet proposed)   \n",
              "1999-09-30 04:00:00  Assigned (20050421)  None (candidate not yet proposed)   \n",
              "1999-10-31 04:00:00  Assigned (20050421)  None (candidate not yet proposed)   \n",
              "\n",
              "                    Comments Operation Operation Date  \n",
              "Publication                                            \n",
              "1995-08-23 04:00:00      NaN  Assigned     2005-04-21  \n",
              "1996-07-16 04:00:00      NaN  Assigned     2005-01-27  \n",
              "1997-12-23 05:00:00      NaN  Assigned     2005-04-21  \n",
              "1998-07-06 04:00:00      NaN  Assigned     2005-04-21  \n",
              "1998-07-15 04:00:00      NaN  Assigned     2005-04-21  \n",
              "1999-09-10 04:00:00      NaN  Assigned     2005-04-21  \n",
              "1999-09-24 04:00:00      NaN  Assigned     2005-04-21  \n",
              "1999-09-27 04:00:00      NaN  Assigned     2005-04-21  \n",
              "1999-09-30 04:00:00      NaN  Assigned     2005-04-21  \n",
              "1999-10-31 04:00:00      NaN  Assigned     2005-04-21  "
            ],
            "text/html": [
              "\n",
              "  <div id=\"df-1175e294-6923-48d8-b456-c4ba17e493cc\">\n",
              "    <div class=\"colab-df-container\">\n",
              "      <div>\n",
              "<style scoped>\n",
              "    .dataframe tbody tr th:only-of-type {\n",
              "        vertical-align: middle;\n",
              "    }\n",
              "\n",
              "    .dataframe tbody tr th {\n",
              "        vertical-align: top;\n",
              "    }\n",
              "\n",
              "    .dataframe thead th {\n",
              "        text-align: right;\n",
              "    }\n",
              "</style>\n",
              "<table border=\"1\" class=\"dataframe\">\n",
              "  <thead>\n",
              "    <tr style=\"text-align: right;\">\n",
              "      <th></th>\n",
              "      <th>ID</th>\n",
              "      <th>ASSIGNER</th>\n",
              "      <th>Count</th>\n",
              "      <th>CVSS</th>\n",
              "      <th>Status</th>\n",
              "      <th>Description</th>\n",
              "      <th>References</th>\n",
              "      <th>Phase</th>\n",
              "      <th>Votes</th>\n",
              "      <th>Comments</th>\n",
              "      <th>Operation</th>\n",
              "      <th>Operation Date</th>\n",
              "    </tr>\n",
              "    <tr>\n",
              "      <th>Publication</th>\n",
              "      <th></th>\n",
              "      <th></th>\n",
              "      <th></th>\n",
              "      <th></th>\n",
              "      <th></th>\n",
              "      <th></th>\n",
              "      <th></th>\n",
              "      <th></th>\n",
              "      <th></th>\n",
              "      <th></th>\n",
              "      <th></th>\n",
              "      <th></th>\n",
              "    </tr>\n",
              "  </thead>\n",
              "  <tbody>\n",
              "    <tr>\n",
              "      <th>1995-08-23 04:00:00</th>\n",
              "      <td>CVE-1999-1580</td>\n",
              "      <td>\"cve@mitre.org\"</td>\n",
              "      <td>1</td>\n",
              "      <td>7.2</td>\n",
              "      <td>Candidate</td>\n",
              "      <td>SunOS sendmail 5.59 through 5.65 uses popen to...</td>\n",
              "      <td>AUSCERT:AA-95.09   |   URL:http://www.auscert....</td>\n",
              "      <td>Assigned (20050421)</td>\n",
              "      <td>None (candidate not yet proposed)</td>\n",
              "      <td>NaN</td>\n",
              "      <td>Assigned</td>\n",
              "      <td>2005-04-21</td>\n",
              "    </tr>\n",
              "    <tr>\n",
              "      <th>1996-07-16 04:00:00</th>\n",
              "      <td>CVE-1999-1572</td>\n",
              "      <td>\"cve@mitre.org\"</td>\n",
              "      <td>1</td>\n",
              "      <td>2.1</td>\n",
              "      <td>Candidate</td>\n",
              "      <td>cpio on FreeBSD 2.1.0, Debian GNU/Linux 3.0, a...</td>\n",
              "      <td>BUGTRAQ:20050204 [USN-75-1] cpio vulnerability...</td>\n",
              "      <td>Assigned (20050127)</td>\n",
              "      <td>None (candidate not yet proposed)</td>\n",
              "      <td>NaN</td>\n",
              "      <td>Assigned</td>\n",
              "      <td>2005-01-27</td>\n",
              "    </tr>\n",
              "    <tr>\n",
              "      <th>1997-12-23 05:00:00</th>\n",
              "      <td>CVE-1999-1581</td>\n",
              "      <td>\"cve@mitre.org\"</td>\n",
              "      <td>1</td>\n",
              "      <td>5</td>\n",
              "      <td>Candidate</td>\n",
              "      <td>Memory leak in Simple Network Management Proto...</td>\n",
              "      <td>CERT-VN:VU#4923   |   URL:http://www.kb.cert.o...</td>\n",
              "      <td>Assigned (20050421)</td>\n",
              "      <td>None (candidate not yet proposed)</td>\n",
              "      <td>NaN</td>\n",
              "      <td>Assigned</td>\n",
              "      <td>2005-04-21</td>\n",
              "    </tr>\n",
              "    <tr>\n",
              "      <th>1998-07-06 04:00:00</th>\n",
              "      <td>CVE-1999-1574</td>\n",
              "      <td>\"cve@mitre.org\"</td>\n",
              "      <td>1</td>\n",
              "      <td>7.5</td>\n",
              "      <td>Candidate</td>\n",
              "      <td>Buffer overflow in the lex routines of nslooku...</td>\n",
              "      <td>AIXAPAR:IX79909   |   URL:http://www-1.ibm.com...</td>\n",
              "      <td>Assigned (20050421)</td>\n",
              "      <td>None (candidate not yet proposed)</td>\n",
              "      <td>NaN</td>\n",
              "      <td>Assigned</td>\n",
              "      <td>2005-04-21</td>\n",
              "    </tr>\n",
              "    <tr>\n",
              "      <th>1998-07-15 04:00:00</th>\n",
              "      <td>CVE-1999-1582</td>\n",
              "      <td>\"cve@mitre.org\"</td>\n",
              "      <td>1</td>\n",
              "      <td>7.5</td>\n",
              "      <td>Candidate</td>\n",
              "      <td>By design, the \"established\" command on the Ci...</td>\n",
              "      <td>CERT-VN:VU#6733   |   URL:http://www.kb.cert.o...</td>\n",
              "      <td>Assigned (20050421)</td>\n",
              "      <td>None (candidate not yet proposed)</td>\n",
              "      <td>NaN</td>\n",
              "      <td>Assigned</td>\n",
              "      <td>2005-04-21</td>\n",
              "    </tr>\n",
              "    <tr>\n",
              "      <th>1999-09-10 04:00:00</th>\n",
              "      <td>CVE-1999-1575</td>\n",
              "      <td>\"cve@mitre.org\"</td>\n",
              "      <td>1</td>\n",
              "      <td>5.1</td>\n",
              "      <td>Candidate</td>\n",
              "      <td>The Kodak/Wang (1) Image Edit (imgedit.ocx), (...</td>\n",
              "      <td>BUGTRAQ:19990924 Several ActiveX Buffer Overru...</td>\n",
              "      <td>Assigned (20050421)</td>\n",
              "      <td>None (candidate not yet proposed)</td>\n",
              "      <td>NaN</td>\n",
              "      <td>Assigned</td>\n",
              "      <td>2005-04-21</td>\n",
              "    </tr>\n",
              "    <tr>\n",
              "      <th>1999-09-24 04:00:00</th>\n",
              "      <td>CVE-1999-1578</td>\n",
              "      <td>\"cve@mitre.org\"</td>\n",
              "      <td>1</td>\n",
              "      <td>5.1</td>\n",
              "      <td>Candidate</td>\n",
              "      <td>Buffer overflow in Registration Wizard ActiveX...</td>\n",
              "      <td>BID:671   |   URL:http://www.securityfocus.com...</td>\n",
              "      <td>Assigned (20050421)</td>\n",
              "      <td>None (candidate not yet proposed)</td>\n",
              "      <td>NaN</td>\n",
              "      <td>Assigned</td>\n",
              "      <td>2005-04-21</td>\n",
              "    </tr>\n",
              "    <tr>\n",
              "      <th>1999-09-27 04:00:00</th>\n",
              "      <td>CVE-1999-1576</td>\n",
              "      <td>\"cve@mitre.org\"</td>\n",
              "      <td>1</td>\n",
              "      <td>7.5</td>\n",
              "      <td>Candidate</td>\n",
              "      <td>Buffer overflow in Adobe Acrobat ActiveX contr...</td>\n",
              "      <td>BID:666   |   URL:http://www.securityfocus.com...</td>\n",
              "      <td>Assigned (20050421)</td>\n",
              "      <td>None (candidate not yet proposed)</td>\n",
              "      <td>NaN</td>\n",
              "      <td>Assigned</td>\n",
              "      <td>2005-04-21</td>\n",
              "    </tr>\n",
              "    <tr>\n",
              "      <th>1999-09-30 04:00:00</th>\n",
              "      <td>CVE-1999-1583</td>\n",
              "      <td>\"cve@mitre.org\"</td>\n",
              "      <td>1</td>\n",
              "      <td>7.2</td>\n",
              "      <td>Candidate</td>\n",
              "      <td>Buffer overflow in nslookup for AIX 4.3 allows...</td>\n",
              "      <td>AIXAPAR:IY02120   |   URL:http://www-1.ibm.com...</td>\n",
              "      <td>Assigned (20050421)</td>\n",
              "      <td>None (candidate not yet proposed)</td>\n",
              "      <td>NaN</td>\n",
              "      <td>Assigned</td>\n",
              "      <td>2005-04-21</td>\n",
              "    </tr>\n",
              "    <tr>\n",
              "      <th>1999-10-31 04:00:00</th>\n",
              "      <td>CVE-1999-1577</td>\n",
              "      <td>\"cve@mitre.org\"</td>\n",
              "      <td>1</td>\n",
              "      <td>5.1</td>\n",
              "      <td>Candidate</td>\n",
              "      <td>Buffer overflow in HHOpen ActiveX control (hho...</td>\n",
              "      <td>BID:669   |   URL:http://www.securityfocus.com...</td>\n",
              "      <td>Assigned (20050421)</td>\n",
              "      <td>None (candidate not yet proposed)</td>\n",
              "      <td>NaN</td>\n",
              "      <td>Assigned</td>\n",
              "      <td>2005-04-21</td>\n",
              "    </tr>\n",
              "  </tbody>\n",
              "</table>\n",
              "</div>\n",
              "      <button class=\"colab-df-convert\" onclick=\"convertToInteractive('df-1175e294-6923-48d8-b456-c4ba17e493cc')\"\n",
              "              title=\"Convert this dataframe to an interactive table.\"\n",
              "              style=\"display:none;\">\n",
              "        \n",
              "  <svg xmlns=\"http://www.w3.org/2000/svg\" height=\"24px\"viewBox=\"0 0 24 24\"\n",
              "       width=\"24px\">\n",
              "    <path d=\"M0 0h24v24H0V0z\" fill=\"none\"/>\n",
              "    <path d=\"M18.56 5.44l.94 2.06.94-2.06 2.06-.94-2.06-.94-.94-2.06-.94 2.06-2.06.94zm-11 1L8.5 8.5l.94-2.06 2.06-.94-2.06-.94L8.5 2.5l-.94 2.06-2.06.94zm10 10l.94 2.06.94-2.06 2.06-.94-2.06-.94-.94-2.06-.94 2.06-2.06.94z\"/><path d=\"M17.41 7.96l-1.37-1.37c-.4-.4-.92-.59-1.43-.59-.52 0-1.04.2-1.43.59L10.3 9.45l-7.72 7.72c-.78.78-.78 2.05 0 2.83L4 21.41c.39.39.9.59 1.41.59.51 0 1.02-.2 1.41-.59l7.78-7.78 2.81-2.81c.8-.78.8-2.07 0-2.86zM5.41 20L4 18.59l7.72-7.72 1.47 1.35L5.41 20z\"/>\n",
              "  </svg>\n",
              "      </button>\n",
              "      \n",
              "  <style>\n",
              "    .colab-df-container {\n",
              "      display:flex;\n",
              "      flex-wrap:wrap;\n",
              "      gap: 12px;\n",
              "    }\n",
              "\n",
              "    .colab-df-convert {\n",
              "      background-color: #E8F0FE;\n",
              "      border: none;\n",
              "      border-radius: 50%;\n",
              "      cursor: pointer;\n",
              "      display: none;\n",
              "      fill: #1967D2;\n",
              "      height: 32px;\n",
              "      padding: 0 0 0 0;\n",
              "      width: 32px;\n",
              "    }\n",
              "\n",
              "    .colab-df-convert:hover {\n",
              "      background-color: #E2EBFA;\n",
              "      box-shadow: 0px 1px 2px rgba(60, 64, 67, 0.3), 0px 1px 3px 1px rgba(60, 64, 67, 0.15);\n",
              "      fill: #174EA6;\n",
              "    }\n",
              "\n",
              "    [theme=dark] .colab-df-convert {\n",
              "      background-color: #3B4455;\n",
              "      fill: #D2E3FC;\n",
              "    }\n",
              "\n",
              "    [theme=dark] .colab-df-convert:hover {\n",
              "      background-color: #434B5C;\n",
              "      box-shadow: 0px 1px 3px 1px rgba(0, 0, 0, 0.15);\n",
              "      filter: drop-shadow(0px 1px 2px rgba(0, 0, 0, 0.3));\n",
              "      fill: #FFFFFF;\n",
              "    }\n",
              "  </style>\n",
              "\n",
              "      <script>\n",
              "        const buttonEl =\n",
              "          document.querySelector('#df-1175e294-6923-48d8-b456-c4ba17e493cc button.colab-df-convert');\n",
              "        buttonEl.style.display =\n",
              "          google.colab.kernel.accessAllowed ? 'block' : 'none';\n",
              "\n",
              "        async function convertToInteractive(key) {\n",
              "          const element = document.querySelector('#df-1175e294-6923-48d8-b456-c4ba17e493cc');\n",
              "          const dataTable =\n",
              "            await google.colab.kernel.invokeFunction('convertToInteractive',\n",
              "                                                     [key], {});\n",
              "          if (!dataTable) return;\n",
              "\n",
              "          const docLinkHtml = 'Like what you see? Visit the ' +\n",
              "            '<a target=\"_blank\" href=https://colab.research.google.com/notebooks/data_table.ipynb>data table notebook</a>'\n",
              "            + ' to learn more about interactive tables.';\n",
              "          element.innerHTML = '';\n",
              "          dataTable['output_type'] = 'display_data';\n",
              "          await google.colab.output.renderOutput(dataTable, element);\n",
              "          const docLink = document.createElement('div');\n",
              "          docLink.innerHTML = docLinkHtml;\n",
              "          element.appendChild(docLink);\n",
              "        }\n",
              "      </script>\n",
              "    </div>\n",
              "  </div>\n",
              "  "
            ]
          },
          "metadata": {},
          "execution_count": 62
        }
      ],
      "source": [
        "mitre_view['Operation Date'] = pd.to_datetime(mitre_view['Operation Date'])\n",
        "mitre_view = mitre_view.rename(columns={'Name': 'ID'})\n",
        "merged_data = pd.merge(all_items.reset_index(), mitre_view, how='left', on=\"ID\")\n",
        "merged_data = merged_data.set_index('Publication')\n",
        "#Compare these mitre assignment dates against publication dates in the nvd data\n",
        "merged_data[merged_data['Operation']=='Assigned'].head(10)"
      ],
      "id": "1DXVCr6CTG9P"
    },
    {
      "cell_type": "markdown",
      "metadata": {
        "id": "NrAjgdT5IGTJ"
      },
      "source": [
        "# Forecasting with Little's Law"
      ],
      "id": "NrAjgdT5IGTJ"
    },
    {
      "cell_type": "markdown",
      "metadata": {
        "id": "fRWMEDs1IREJ"
      },
      "source": [
        "$L = \\lambda W$ This famous equation is used in queueing theory, and deeply intwined with how we maximise flow rates and minimise workloads in systems. It is used in everything from call centres, to stealth bomber maintenance, packet switching networks, and winde cellars.\n",
        "\n",
        "This equation basically says, L is the size of the queue, and you could estimate it by the multiplying the flow rate ($\\lambda$) times the service time or work ($W$).\n",
        "\n",
        "In our work here today we need to modify it slightly to help us forecast vulnerabilities. \n",
        "\n",
        "$\\hat{y} = \\lambda + N * (1 - p(W \\leq window))$\n",
        "\n",
        "For example, the monthly arrival rate at the start of May was 1000 and was 800 in April and the probability of being published within 1 month of\n",
        "being assigned is 0.25, then the predicted number to be published by the end of May is 1000 + 800 * (1 - 0.25) = 1600 since 25% of the 800 were probably published in April."
      ],
      "id": "fRWMEDs1IREJ"
    },
    {
      "cell_type": "markdown",
      "source": [
        "##Exercise 5: Forecast with Little's Law"
      ],
      "metadata": {
        "id": "2QvkqMhJdgTP"
      },
      "id": "2QvkqMhJdgTP"
    },
    {
      "cell_type": "code",
      "execution_count": null,
      "metadata": {
        "id": "sp5CP3qB-h_2"
      },
      "outputs": [],
      "source": [
        "#TODO Try with Little's Law\n",
        "#How many arrived last month and this month?\n",
        "#How will you calculate how the percentage of publication within window?\n",
        "#LL = throughput_a + throughput_b * (1-prob_of_publication_within_window)"
      ],
      "id": "sp5CP3qB-h_2"
    },
    {
      "cell_type": "markdown",
      "source": [
        "##Exercise 6: Do naive prediction intervals for Little's Law"
      ],
      "metadata": {
        "id": "TcFrhGhddoR1"
      },
      "id": "TcFrhGhddoR1"
    },
    {
      "cell_type": "markdown",
      "source": [
        "What's the best way to do prediction intervals for this forecast?"
      ],
      "metadata": {
        "id": "JyRzEDHOd80X"
      },
      "id": "JyRzEDHOd80X"
    },
    {
      "cell_type": "code",
      "source": [
        "#TODO code prediction intervals"
      ],
      "metadata": {
        "id": "4D0M5UZIdwUk"
      },
      "id": "4D0M5UZIdwUk",
      "execution_count": null,
      "outputs": []
    },
    {
      "cell_type": "markdown",
      "source": [
        "##Exercise 7: Do retrocasting to find the MAPE empirically"
      ],
      "metadata": {
        "id": "Dp65Ra43d0OA"
      },
      "id": "Dp65Ra43d0OA"
    },
    {
      "cell_type": "markdown",
      "source": [
        "Retrocasting and backtesting are important in forecasting. The main idea though is simple: test your forecasts against all empirical data before testing it against the future. So, let's say you want to make monthly forecasts, then you should retrocastcast every month of CVE volumes between 1999 and now, and test the prediction against the actual. This will help you get your arms around the uncertainty of your own forecasts."
      ],
      "metadata": {
        "id": "qjqmwTxqpCht"
      },
      "id": "qjqmwTxqpCht"
    },
    {
      "cell_type": "code",
      "execution_count": null,
      "metadata": {
        "id": "QD361QEE-ZIm"
      },
      "outputs": [],
      "source": [
        "#TODO retrocast yearly and test with MAE/MAPE\n"
      ],
      "id": "QD361QEE-ZIm"
    },
    {
      "cell_type": "markdown",
      "source": [
        "##Exercise 8: Redo the prediction intervals with the MAPE you found."
      ],
      "metadata": {
        "id": "n2xxDghco6sv"
      },
      "id": "n2xxDghco6sv"
    },
    {
      "cell_type": "markdown",
      "metadata": {
        "id": "BS1pdvqh-kDy"
      },
      "source": [
        "# Bonus Content: Exploit Prediction and Scoring System (EPSS)"
      ],
      "id": "BS1pdvqh-kDy"
    },
    {
      "cell_type": "markdown",
      "metadata": {
        "id": "SEv3nHN1GnQL"
      },
      "source": [
        "Prioritising vulnerabilities is tricky, and certainly one of the most important elements is keeping your register of assets up to date, and knowing which are more critical to your mission than others. After that though, trying to guage which vulnerabilities are most likely to be exploited is exceptionally hard.\n",
        "\n",
        "That's where EPSS comes in; if you give it a vulnerability, it will tell you the percentage chance it will be exploited anywhere in the world within the next 30 days (+/- 2%). They also give you the percentile rank of this vulnerability according to it's chance amongst all other vulnerabilities.\n",
        "\n",
        "If you want to deep dive into how they do all this, join us in the [Special Interest Group over at FIRST.org]( https://www.first.org/epss/#)."
      ],
      "id": "SEv3nHN1GnQL"
    },
    {
      "cell_type": "code",
      "execution_count": null,
      "metadata": {
        "id": "bdc9988b"
      },
      "outputs": [],
      "source": [
        "import requests\n",
        "import gzip as gz\n",
        "import shutil\n",
        "import datetime\n",
        "import os\n",
        "import pandas as pd"
      ],
      "id": "bdc9988b"
    },
    {
      "cell_type": "code",
      "execution_count": null,
      "metadata": {
        "id": "Nl8_Ze68I3fO"
      },
      "outputs": [],
      "source": [
        "file_exists = os.path.exists('EPSS-FIRST')\n",
        "if not file_exists:\n",
        "  os.mkdir('EPSS-FIRST')\n",
        "  os.mkdir('EPSS-FIRST/GZIP')\n",
        "  os.mkdir('EPSS-FIRST/CSV')"
      ],
      "id": "Nl8_Ze68I3fO"
    },
    {
      "cell_type": "code",
      "execution_count": null,
      "metadata": {
        "id": "xe6aht2WJAbK"
      },
      "outputs": [],
      "source": [
        "url = 'https://epss.cyentia.com/epss_scores-current.csv.gz'\n",
        "req = requests.get(url, stream=True)\n",
        "now = datetime.datetime.now()\n",
        "file_exists = os.path.exists('EPSS-FIRST/CSV/epss_scores_current.csv.gz')\n",
        "if file_exists:\n",
        "  os.replace('EPSS-FIRST/GZIP/epss_scores_current.csv.gz', 'EPSS-FIRST/GZIP/epss_scores_'+now.strftime(\"%m_%d_%Y\")+'.csv.gz')\n",
        "with open('EPSS-FIRST/GZIP/epss_scores_current.csv.gz', 'wb') as f:\n",
        "    for chunk in req.iter_content(chunk_size=1024):\n",
        "        if chunk:\n",
        "            f.write(chunk)\n",
        "            f.flush()"
      ],
      "id": "xe6aht2WJAbK"
    },
    {
      "cell_type": "code",
      "execution_count": null,
      "metadata": {
        "id": "M7QG6kX3JKhU"
      },
      "outputs": [],
      "source": [
        "file_exists = os.path.exists('EPSS-FIRST/CSV/epss_scores_current.csv')\n",
        "if file_exists:\n",
        "  os.replace('EPSS-FIRST/CSV/epss_scores_current.csv', 'EPSS-FIRST/CSV/epss_scores_'+now.strftime(\"%m_%d_%Y\")+'.csv') \n",
        "with gz.open('EPSS-FIRST/GZIP/epss_scores_current.csv.gz', 'rb') as f_in:\n",
        "    with open('EPSS-FIRST/CSV/epss_scores_current.csv', 'wb')  as f_out:\n",
        "        shutil.copyfileobj(f_in, f_out)"
      ],
      "id": "M7QG6kX3JKhU"
    },
    {
      "cell_type": "code",
      "execution_count": null,
      "metadata": {
        "id": "PRV6SJzPKpof"
      },
      "outputs": [],
      "source": [
        "epss = pd.read_csv('EPSS-FIRST/CSV/epss_scores_current.csv')"
      ],
      "id": "PRV6SJzPKpof"
    },
    {
      "cell_type": "code",
      "execution_count": null,
      "metadata": {
        "id": "k9A4ayr8K23V"
      },
      "outputs": [],
      "source": [
        "epss.head(100)"
      ],
      "id": "k9A4ayr8K23V"
    }
  ],
  "metadata": {
    "colab": {
      "collapsed_sections": [],
      "name": "Vulnerability_Forecasting_Tutorial.ipynb",
      "toc_visible": true,
      "provenance": []
    },
    "kernelspec": {
      "display_name": "saturn (Python 3)",
      "language": "python",
      "name": "python3"
    },
    "language_info": {
      "codemirror_mode": {
        "name": "ipython",
        "version": 3
      },
      "file_extension": ".py",
      "mimetype": "text/x-python",
      "name": "python",
      "nbconvert_exporter": "python",
      "pygments_lexer": "ipython3",
      "version": "3.9.7"
    }
  },
  "nbformat": 4,
  "nbformat_minor": 5
}